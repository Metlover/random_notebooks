{
 "cells": [
  {
   "cell_type": "code",
   "execution_count": 1,
   "metadata": {},
   "outputs": [],
   "source": [
    "import cfbd\n",
    "import numpy as np\n",
    "import pandas as pd\n",
    "import matplotlib.pyplot as plt\n",
    "from sklearn.linear_model import LinearRegression\n",
    "import math"
   ]
  },
  {
   "cell_type": "markdown",
   "metadata": {},
   "source": [
    "First, we'll grab a 6 year sample of games, from 2015-2020 (you'll see why we're grabbing so many games in a second), then filter out any games not against BCS opponents."
   ]
  },
  {
   "cell_type": "code",
   "execution_count": 2,
   "metadata": {},
   "outputs": [],
   "source": [
    "seasons = [cfbd.GamesApi().get_games(year=iteryear, season_type='both') for iteryear in range(2015,2021)]\n",
    "games = [game for season in seasons for game in season]"
   ]
  },
  {
   "cell_type": "code",
   "execution_count": 3,
   "metadata": {},
   "outputs": [
    {
     "data": {
      "text/html": [
       "<div>\n",
       "<style scoped>\n",
       "    .dataframe tbody tr th:only-of-type {\n",
       "        vertical-align: middle;\n",
       "    }\n",
       "\n",
       "    .dataframe tbody tr th {\n",
       "        vertical-align: top;\n",
       "    }\n",
       "\n",
       "    .dataframe thead th {\n",
       "        text-align: right;\n",
       "    }\n",
       "</style>\n",
       "<table border=\"1\" class=\"dataframe\">\n",
       "  <thead>\n",
       "    <tr style=\"text-align: right;\">\n",
       "      <th></th>\n",
       "      <th>id</th>\n",
       "      <th>neutral_site</th>\n",
       "      <th>home_team</th>\n",
       "      <th>home_conference</th>\n",
       "      <th>home_points</th>\n",
       "      <th>away_team</th>\n",
       "      <th>away_conference</th>\n",
       "      <th>away_points</th>\n",
       "      <th>season</th>\n",
       "    </tr>\n",
       "  </thead>\n",
       "  <tbody>\n",
       "    <tr>\n",
       "      <th>0</th>\n",
       "      <td>400603840</td>\n",
       "      <td>True</td>\n",
       "      <td>South Carolina</td>\n",
       "      <td>SEC</td>\n",
       "      <td>17</td>\n",
       "      <td>North Carolina</td>\n",
       "      <td>ACC</td>\n",
       "      <td>13</td>\n",
       "      <td>2015</td>\n",
       "    </tr>\n",
       "    <tr>\n",
       "      <th>1</th>\n",
       "      <td>400763593</td>\n",
       "      <td>False</td>\n",
       "      <td>UCF</td>\n",
       "      <td>American Athletic</td>\n",
       "      <td>14</td>\n",
       "      <td>Florida International</td>\n",
       "      <td>Conference USA</td>\n",
       "      <td>15</td>\n",
       "      <td>2015</td>\n",
       "    </tr>\n",
       "    <tr>\n",
       "      <th>2</th>\n",
       "      <td>400763399</td>\n",
       "      <td>False</td>\n",
       "      <td>Central Michigan</td>\n",
       "      <td>Mid-American</td>\n",
       "      <td>13</td>\n",
       "      <td>Oklahoma State</td>\n",
       "      <td>Big 12</td>\n",
       "      <td>24</td>\n",
       "      <td>2015</td>\n",
       "    </tr>\n",
       "    <tr>\n",
       "      <th>3</th>\n",
       "      <td>400603839</td>\n",
       "      <td>False</td>\n",
       "      <td>Vanderbilt</td>\n",
       "      <td>SEC</td>\n",
       "      <td>12</td>\n",
       "      <td>Western Kentucky</td>\n",
       "      <td>Conference USA</td>\n",
       "      <td>14</td>\n",
       "      <td>2015</td>\n",
       "    </tr>\n",
       "    <tr>\n",
       "      <th>4</th>\n",
       "      <td>400756883</td>\n",
       "      <td>False</td>\n",
       "      <td>Utah</td>\n",
       "      <td>Pac-12</td>\n",
       "      <td>24</td>\n",
       "      <td>Michigan</td>\n",
       "      <td>Big Ten</td>\n",
       "      <td>17</td>\n",
       "      <td>2015</td>\n",
       "    </tr>\n",
       "  </tbody>\n",
       "</table>\n",
       "</div>"
      ],
      "text/plain": [
       "          id  neutral_site         home_team    home_conference  home_points  \\\n",
       "0  400603840          True    South Carolina                SEC           17   \n",
       "1  400763593         False               UCF  American Athletic           14   \n",
       "2  400763399         False  Central Michigan       Mid-American           13   \n",
       "3  400603839         False        Vanderbilt                SEC           12   \n",
       "4  400756883         False              Utah             Pac-12           24   \n",
       "\n",
       "               away_team away_conference  away_points  season  \n",
       "0         North Carolina             ACC           13    2015  \n",
       "1  Florida International  Conference USA           15    2015  \n",
       "2         Oklahoma State          Big 12           24    2015  \n",
       "3       Western Kentucky  Conference USA           14    2015  \n",
       "4               Michigan         Big Ten           17    2015  "
      ]
     },
     "execution_count": 3,
     "metadata": {},
     "output_type": "execute_result"
    }
   ],
   "source": [
    "games_df = pd.DataFrame().from_records([\n",
    "                dict(\n",
    "                    id=g.id, \n",
    "                    neutral_site=g.neutral_site,\n",
    "                    home_team=g.home_team,\n",
    "                    home_conference=g.home_conference,\n",
    "                    home_points=g.home_points,\n",
    "                    away_team=g.away_team,\n",
    "                    away_conference=g.away_conference,\n",
    "                    away_points=g.away_points,\n",
    "                    season=g.season\n",
    "                ) \n",
    "                for g in games \n",
    "                if g.home_points is not None \n",
    "                    and g.away_points is not None\n",
    "                    and g.home_conference is not None \n",
    "                    and g.away_conference is not None\n",
    "            ])\n",
    "games_df.head()"
   ]
  },
  {
   "cell_type": "markdown",
   "metadata": {},
   "source": [
    "Our first task to calculate $r_{x}$ for each of these games - the probability that the home team is better than the away team given their margin of victory. \n",
    "\n",
    "Kolbush and Sokol instead use a common-opponent approach for estimating $r_{x}$. Essentially, for a given game, we can look at the opponents Team A and Team B both played over the course of the season. Let's walk through an example."
   ]
  },
  {
   "cell_type": "code",
   "execution_count": 4,
   "metadata": {},
   "outputs": [
    {
     "data": {
      "text/html": [
       "<div>\n",
       "<style scoped>\n",
       "    .dataframe tbody tr th:only-of-type {\n",
       "        vertical-align: middle;\n",
       "    }\n",
       "\n",
       "    .dataframe tbody tr th {\n",
       "        vertical-align: top;\n",
       "    }\n",
       "\n",
       "    .dataframe thead th {\n",
       "        text-align: right;\n",
       "    }\n",
       "</style>\n",
       "<table border=\"1\" class=\"dataframe\">\n",
       "  <thead>\n",
       "    <tr style=\"text-align: right;\">\n",
       "      <th></th>\n",
       "      <th>id</th>\n",
       "      <th>neutral_site</th>\n",
       "      <th>home_team</th>\n",
       "      <th>home_conference</th>\n",
       "      <th>home_points</th>\n",
       "      <th>away_team</th>\n",
       "      <th>away_conference</th>\n",
       "      <th>away_points</th>\n",
       "      <th>season</th>\n",
       "    </tr>\n",
       "  </thead>\n",
       "  <tbody>\n",
       "    <tr>\n",
       "      <th>3369</th>\n",
       "      <td>401112476</td>\n",
       "      <td>False</td>\n",
       "      <td>Miami</td>\n",
       "      <td>ACC</td>\n",
       "      <td>35</td>\n",
       "      <td>Virginia Tech</td>\n",
       "      <td>ACC</td>\n",
       "      <td>42</td>\n",
       "      <td>2019</td>\n",
       "    </tr>\n",
       "  </tbody>\n",
       "</table>\n",
       "</div>"
      ],
      "text/plain": [
       "             id  neutral_site home_team home_conference  home_points  \\\n",
       "3369  401112476         False     Miami             ACC           35   \n",
       "\n",
       "          away_team away_conference  away_points  season  \n",
       "3369  Virginia Tech             ACC           42    2019  "
      ]
     },
     "execution_count": 4,
     "metadata": {},
     "output_type": "execute_result"
    }
   ],
   "source": [
    "games_df.loc[(games_df['id'] == 401112476)]"
   ]
  },
  {
   "cell_type": "markdown",
   "metadata": {},
   "source": [
    "In this example game, Miami lost to Virginia Tech by 7 points. How many opponents did Virginia Tech and Miami have in common that year?"
   ]
  },
  {
   "cell_type": "code",
   "execution_count": 5,
   "metadata": {},
   "outputs": [
    {
     "data": {
      "text/plain": [
       "{'Duke', 'Georgia Tech', 'North Carolina', 'Pittsburgh', 'Virginia'}"
      ]
     },
     "execution_count": 5,
     "metadata": {},
     "output_type": "execute_result"
    }
   ],
   "source": [
    "opponents = games_df['away_team'][((games_df['home_team'] == 'Virginia Tech') & (games_df['season'] == 2019))].tolist() + games_df['home_team'][((games_df['away_team'] == 'Virginia Tech') & (games_df['season'] == 2019))].tolist() + games_df['away_team'][((games_df['home_team'] == 'Miami') & (games_df['season'] == 2019))].tolist() + games_df['home_team'][((games_df['away_team'] == 'Miami') & (games_df['season'] == 2019))].tolist()\n",
    "\n",
    "common_opponents = set([team for team in opponents if opponents.count(team) > 1])\n",
    "\n",
    "common_opponents"
   ]
  },
  {
   "cell_type": "markdown",
   "metadata": {},
   "source": [
    "How well did VT and Miami do against those common opponents?"
   ]
  },
  {
   "cell_type": "code",
   "execution_count": 6,
   "metadata": {},
   "outputs": [
    {
     "name": "stdout",
     "output_type": "stream",
     "text": [
      "Virginia Tech's common opponent WPCT: 0.6\n",
      "Miami's common opponent WPCT: 0.4\n"
     ]
    }
   ],
   "source": [
    "vt_w = 0\n",
    "mia_w = 0\n",
    "vt_g = 0\n",
    "mia_g = 0\n",
    "for index, game in games_df.loc[games_df['season'] == 2019].iterrows():\n",
    "    if (game['home_team'] == 'Virginia Tech') & (game['away_team'] in common_opponents):\n",
    "        vt_g += 1\n",
    "        if game['home_points'] > game['away_points']:\n",
    "            vt_w += 1\n",
    "    elif (game['home_team'] == 'Miami') & (game['away_team'] in common_opponents):\n",
    "        mia_g += 1\n",
    "        if game['home_points'] > game['away_points']:\n",
    "            mia_w += 1\n",
    "    elif (game['away_team'] == 'Virginia Tech') & (game['home_team'] in common_opponents):\n",
    "        vt_g += 1\n",
    "        if game['away_points'] > game['home_points']:\n",
    "            vt_w += 1\n",
    "    elif (game['away_team'] == 'Miami') & (game['home_team'] in common_opponents):\n",
    "        mia_g += 1\n",
    "        if game['away_points'] > game['home_points']:\n",
    "            mia_w += 1\n",
    "            \n",
    "print(\"Virginia Tech's common opponent WPCT: \" + str(vt_w / vt_g))\n",
    "print(\"Miami's common opponent WPCT: \" + str(mia_w / mia_g))"
   ]
  },
  {
   "cell_type": "markdown",
   "metadata": {},
   "source": [
    "Virginia Tech won 60% of their games against their common opponents, and Miami won 40%. This renders our calculus rather simple: there is a (0.4 + (1-0.6)) / 2 = 0.4, or 40% approximated chance Miami is better than Virginia Tech.\n",
    "\n",
    "To obtain a smooth estimate, we'll perform this for every game where teams had common opponents in a season, compile the point differentials for those games, then run a weighted logistic regression on those games (remember, our 40% estimate is independent of point differential - we wish to translate point differential into this estimate!). Our weights will be the total number of games played against common opponents (we can be more confident in our estimate of $r_{x}$ if we have more games.\n",
    "\n",
    "We'll do this for the 2015-2018 seasons to estimate coefficients for the 2019 season (using the previous 4 years to estimate coefficients for a given season, as Kolbush and Sokol did). We'll also filter out neutral site games, so we can get a better approximation for home field advantage. Just a warning: this will take a while since we're going over basically every game of the past four years, all 3200-ish of them!"
   ]
  },
  {
   "cell_type": "code",
   "execution_count": 7,
   "metadata": {},
   "outputs": [
    {
     "data": {
      "text/html": [
       "<div>\n",
       "<style scoped>\n",
       "    .dataframe tbody tr th:only-of-type {\n",
       "        vertical-align: middle;\n",
       "    }\n",
       "\n",
       "    .dataframe tbody tr th {\n",
       "        vertical-align: top;\n",
       "    }\n",
       "\n",
       "    .dataframe thead th {\n",
       "        text-align: right;\n",
       "    }\n",
       "</style>\n",
       "<table border=\"1\" class=\"dataframe\">\n",
       "  <thead>\n",
       "    <tr style=\"text-align: right;\">\n",
       "      <th></th>\n",
       "      <th>season</th>\n",
       "      <th>team_a</th>\n",
       "      <th>team_b</th>\n",
       "      <th>home_diff</th>\n",
       "      <th>r_x</th>\n",
       "      <th>weight</th>\n",
       "    </tr>\n",
       "  </thead>\n",
       "  <tbody>\n",
       "    <tr>\n",
       "      <th>0</th>\n",
       "      <td>2015</td>\n",
       "      <td>Tulane</td>\n",
       "      <td>Duke</td>\n",
       "      <td>-30</td>\n",
       "      <td>0.25</td>\n",
       "      <td>4</td>\n",
       "    </tr>\n",
       "    <tr>\n",
       "      <th>1</th>\n",
       "      <td>2015</td>\n",
       "      <td>Western Michigan</td>\n",
       "      <td>Michigan State</td>\n",
       "      <td>-13</td>\n",
       "      <td>0.25</td>\n",
       "      <td>4</td>\n",
       "    </tr>\n",
       "    <tr>\n",
       "      <th>2</th>\n",
       "      <td>2015</td>\n",
       "      <td>Northwestern</td>\n",
       "      <td>Stanford</td>\n",
       "      <td>10</td>\n",
       "      <td>0.00</td>\n",
       "      <td>4</td>\n",
       "    </tr>\n",
       "    <tr>\n",
       "      <th>3</th>\n",
       "      <td>2015</td>\n",
       "      <td>Georgia</td>\n",
       "      <td>Louisiana Monroe</td>\n",
       "      <td>37</td>\n",
       "      <td>0.75</td>\n",
       "      <td>4</td>\n",
       "    </tr>\n",
       "    <tr>\n",
       "      <th>4</th>\n",
       "      <td>2015</td>\n",
       "      <td>NC State</td>\n",
       "      <td>Troy</td>\n",
       "      <td>28</td>\n",
       "      <td>0.75</td>\n",
       "      <td>4</td>\n",
       "    </tr>\n",
       "  </tbody>\n",
       "</table>\n",
       "</div>"
      ],
      "text/plain": [
       "   season            team_a            team_b  home_diff   r_x  weight\n",
       "0    2015            Tulane              Duke        -30  0.25       4\n",
       "1    2015  Western Michigan    Michigan State        -13  0.25       4\n",
       "2    2015      Northwestern          Stanford         10  0.00       4\n",
       "3    2015           Georgia  Louisiana Monroe         37  0.75       4\n",
       "4    2015          NC State              Troy         28  0.75       4"
      ]
     },
     "execution_count": 7,
     "metadata": {},
     "output_type": "execute_result"
    }
   ],
   "source": [
    "train_games_df = games_df.loc[(games_df['season'].isin([2015,2016,2017,2018])) & (~games_df['neutral_site'])]\n",
    "\n",
    "train_df = []\n",
    "\n",
    "for index, game in train_games_df.iterrows():\n",
    "    season = game['season']\n",
    "    team_a = game['home_team']\n",
    "    team_b = game['away_team']\n",
    "    home_diff = game['home_points'] - game['away_points']\n",
    "    opponents = train_games_df['away_team'][((games_df['home_team'] == team_a) & (games_df['season'] == season))].tolist() + games_df['home_team'][((games_df['away_team'] == team_a) & (games_df['season'] == season))].tolist() + games_df['away_team'][((games_df['home_team'] == team_b) & (games_df['season'] == season))].tolist() + games_df['home_team'][((games_df['away_team'] == team_b) & (games_df['season'] == season))].tolist()\n",
    "    common_opponents = set([team for team in opponents if opponents.count(team) > 1])\n",
    "    if len(common_opponents) > 1:\n",
    "        a_w = 0\n",
    "        b_w = 0\n",
    "        a_g = 0\n",
    "        b_g = 0\n",
    "        for index, game in games_df.loc[(games_df['season'] == season) & \n",
    "                                        ((games_df['home_team'].isin([team_a,team_b])) |\n",
    "                                          games_df['away_team'].isin([team_a,team_b]))].iterrows():\n",
    "            if (game['home_team'] == team_a) & (game['away_team'] in common_opponents):\n",
    "                a_g += 1\n",
    "                if game['home_points'] > game['away_points']:\n",
    "                    a_w += 1\n",
    "            elif (game['home_team'] == team_b) & (game['away_team'] in common_opponents):\n",
    "                b_g += 1\n",
    "                if game['home_points'] > game['away_points']:\n",
    "                    b_w += 1\n",
    "            elif (game['away_team'] == team_a) & (game['home_team'] in common_opponents):\n",
    "                a_g += 1\n",
    "                if game['away_points'] > game['home_points']:\n",
    "                    a_w += 1\n",
    "            elif (game['away_team'] == team_b) & (game['home_team'] in common_opponents):\n",
    "                b_g += 1\n",
    "                if game['away_points'] > game['home_points']:\n",
    "                    b_w += 1\n",
    "        \n",
    "        r_x = ((a_w / a_g) + (1 - (b_w / b_g))) / 2\n",
    "        \n",
    "        d = {\n",
    "            'season' : season,\n",
    "            'team_a' : team_a,\n",
    "            'team_b' : team_b,\n",
    "            'home_diff' : home_diff,\n",
    "            'r_x' : r_x,\n",
    "            'weight' : a_g+b_g\n",
    "        }\n",
    "        train_df.append(d)\n",
    "\n",
    "train_df = pd.DataFrame(train_df)  \n",
    "train_df.head()"
   ]
  },
  {
   "cell_type": "markdown",
   "metadata": {},
   "source": [
    "Now, we'll use our data to make a logistic regression model. Okay, I lied, it's not a strict logistic regression model - because we have a series of continuous probabilities and their weights rather than a series of 1s and 0s (which a logistic regression model is *usually* trained upon), we're going to use the logit transformation to linearize our data, then run a weighted linar regression model, then undo the logit transformation to obtain probabilities for $r_{x}$. Before we do that, we're going transform any probabilities of 1 to 0.9 and 0 to 0.1 -- the logit transformation can't handle these specific probabilities."
   ]
  },
  {
   "cell_type": "code",
   "execution_count": 8,
   "metadata": {},
   "outputs": [
    {
     "name": "stdout",
     "output_type": "stream",
     "text": [
      "a = 0.023983237378834787\n",
      "b = -0.09541138612221126\n"
     ]
    },
    {
     "data": {
      "image/png": "[encoded data removed]",
      "text/plain": [
       "<Figure size 432x288 with 1 Axes>"
      ]
     },
     "metadata": {
      "needs_background": "light"
     },
     "output_type": "display_data"
    }
   ],
   "source": [
    "train_df.loc[train_df['r_x'] == 1,'r_x'] = 0.9\n",
    "train_df.loc[train_df['r_x'] == 0,'r_x'] = 0.1\n",
    "\n",
    "x = np.array(train_df['home_diff']).reshape(-1,1)\n",
    "y = np.log(train_df['r_x'] / (1 - train_df['r_x']))\n",
    "w = train_df['weight']\n",
    "model = LinearRegression().fit(x, y, w)\n",
    "plt.scatter(x, y, s = w)\n",
    "plt.plot(x, model.predict(x), color='red', linewidth=3, label='Weighted model')\n",
    "a = model.coef_[0]\n",
    "b = model.intercept_\n",
    "print(\"a = \" + str(a))\n",
    "print(\"b = \" + str(b))"
   ]
  },
  {
   "cell_type": "markdown",
   "metadata": {},
   "source": [
    "Remember that for a linear regression, we find our coefficients in the form $y = ax + b$\n",
    ". Since $y$ is logit transformed, to undo that transformation, we plug $ax + b$ into $\\frac{e^{y}}{1 + e^{y}}$ for $\\frac{e^{ax + b}}{1 + e^{ax + b}}$. \n",
    "\n",
    "Let's return to that Virginia Tech/Miami game. Based on the point differential of the game and our model, what are the odds that Miami was better than Virginia Tech?"
   ]
  },
  {
   "cell_type": "code",
   "execution_count": 9,
   "metadata": {},
   "outputs": [
    {
     "name": "stdout",
     "output_type": "stream",
     "text": [
      "0.43455413139478277\n"
     ]
    }
   ],
   "source": [
    "print(math.exp(a * -7 + b) / (1 + math.exp(a * -7 + b)))"
   ]
  },
  {
   "cell_type": "markdown",
   "metadata": {},
   "source": [
    "Not too far off from our original estimate of 40%!\n",
    "\n",
    "We can also quickly calculate the expected home field advantage from this dataset:"
   ]
  },
  {
   "cell_type": "code",
   "execution_count": 10,
   "metadata": {},
   "outputs": [
    {
     "name": "stdout",
     "output_type": "stream",
     "text": [
      "3.978253002924944\n"
     ]
    }
   ],
   "source": [
    "h = (-b / a)\n",
    "print(h)"
   ]
  },
  {
   "cell_type": "markdown",
   "metadata": {},
   "source": [
    "So from 2015-2018, home field advantage appears to be worth about 4 points -- not too far off from the 2.5 estimate Bill has been using in his SRS calculations.\n",
    "\n",
    "Now that we have our formula for estimating $r_{x}$, we can start building our Markov chain. Recall how we did this by hand in part one:\n",
    "\n",
    ">To generate our transition matrix, we sum up  for games involving a particular team (let's say, Team X) by team. In the row of Team X, we place each team's sum of $r_{x}$ in each team's corresponding column (including Team X). Then, we divide all of the values in the row by the number of games Team X played.\n",
    "\n",
    "We're going to implement this algorithmically for our 2019 dataset. First, let's grab our 2019 values."
   ]
  },
  {
   "cell_type": "code",
   "execution_count": 11,
   "metadata": {},
   "outputs": [
    {
     "data": {
      "text/html": [
       "<div>\n",
       "<style scoped>\n",
       "    .dataframe tbody tr th:only-of-type {\n",
       "        vertical-align: middle;\n",
       "    }\n",
       "\n",
       "    .dataframe tbody tr th {\n",
       "        vertical-align: top;\n",
       "    }\n",
       "\n",
       "    .dataframe thead th {\n",
       "        text-align: right;\n",
       "    }\n",
       "</style>\n",
       "<table border=\"1\" class=\"dataframe\">\n",
       "  <thead>\n",
       "    <tr style=\"text-align: right;\">\n",
       "      <th></th>\n",
       "      <th>id</th>\n",
       "      <th>neutral_site</th>\n",
       "      <th>home_team</th>\n",
       "      <th>home_conference</th>\n",
       "      <th>home_points</th>\n",
       "      <th>away_team</th>\n",
       "      <th>away_conference</th>\n",
       "      <th>away_points</th>\n",
       "      <th>season</th>\n",
       "    </tr>\n",
       "  </thead>\n",
       "  <tbody>\n",
       "    <tr>\n",
       "      <th>3073</th>\n",
       "      <td>401110723</td>\n",
       "      <td>True</td>\n",
       "      <td>Florida</td>\n",
       "      <td>SEC</td>\n",
       "      <td>24</td>\n",
       "      <td>Miami</td>\n",
       "      <td>ACC</td>\n",
       "      <td>20</td>\n",
       "      <td>2019</td>\n",
       "    </tr>\n",
       "    <tr>\n",
       "      <th>3074</th>\n",
       "      <td>401114164</td>\n",
       "      <td>False</td>\n",
       "      <td>Hawai'i</td>\n",
       "      <td>Mountain West</td>\n",
       "      <td>45</td>\n",
       "      <td>Arizona</td>\n",
       "      <td>Pac-12</td>\n",
       "      <td>38</td>\n",
       "      <td>2019</td>\n",
       "    </tr>\n",
       "    <tr>\n",
       "      <th>3075</th>\n",
       "      <td>401117854</td>\n",
       "      <td>False</td>\n",
       "      <td>Cincinnati</td>\n",
       "      <td>American Athletic</td>\n",
       "      <td>24</td>\n",
       "      <td>UCLA</td>\n",
       "      <td>Pac-12</td>\n",
       "      <td>14</td>\n",
       "      <td>2019</td>\n",
       "    </tr>\n",
       "    <tr>\n",
       "      <th>3076</th>\n",
       "      <td>401114236</td>\n",
       "      <td>False</td>\n",
       "      <td>Tulane</td>\n",
       "      <td>American Athletic</td>\n",
       "      <td>42</td>\n",
       "      <td>Florida International</td>\n",
       "      <td>Conference USA</td>\n",
       "      <td>14</td>\n",
       "      <td>2019</td>\n",
       "    </tr>\n",
       "    <tr>\n",
       "      <th>3077</th>\n",
       "      <td>401111653</td>\n",
       "      <td>False</td>\n",
       "      <td>Clemson</td>\n",
       "      <td>ACC</td>\n",
       "      <td>52</td>\n",
       "      <td>Georgia Tech</td>\n",
       "      <td>ACC</td>\n",
       "      <td>14</td>\n",
       "      <td>2019</td>\n",
       "    </tr>\n",
       "  </tbody>\n",
       "</table>\n",
       "</div>"
      ],
      "text/plain": [
       "             id  neutral_site   home_team    home_conference  home_points  \\\n",
       "3073  401110723          True     Florida                SEC           24   \n",
       "3074  401114164         False     Hawai'i      Mountain West           45   \n",
       "3075  401117854         False  Cincinnati  American Athletic           24   \n",
       "3076  401114236         False      Tulane  American Athletic           42   \n",
       "3077  401111653         False     Clemson                ACC           52   \n",
       "\n",
       "                  away_team away_conference  away_points  season  \n",
       "3073                  Miami             ACC           20    2019  \n",
       "3074                Arizona          Pac-12           38    2019  \n",
       "3075                   UCLA          Pac-12           14    2019  \n",
       "3076  Florida International  Conference USA           14    2019  \n",
       "3077           Georgia Tech             ACC           14    2019  "
      ]
     },
     "execution_count": 11,
     "metadata": {},
     "output_type": "execute_result"
    }
   ],
   "source": [
    "games_df_2019 = games_df.loc[games_df['season'] == 2019]\n",
    "games_df_2019.head()"
   ]
  },
  {
   "cell_type": "markdown",
   "metadata": {},
   "source": [
    "Next, we'll build two matrices: an n x n transition matrix, where n is the number of BCS teams, and a 1 x n matrix, tracking how many games each team plays."
   ]
  },
  {
   "cell_type": "code",
   "execution_count": 12,
   "metadata": {},
   "outputs": [],
   "source": [
    "team_names = sorted(list(set(games_df_2019['home_team'].tolist() + games_df_2019['away_team'].tolist())))\n",
    "n_teams = len(team_names)\n",
    "p = np.zeros((n_teams,n_teams))\n",
    "n_games = np.zeros(n_teams)"
   ]
  },
  {
   "cell_type": "markdown",
   "metadata": {},
   "source": [
    "Now, we'll iterate through each game, calculate r_x, and put either r_x or 1 - r_x in the appropriate place in our transition matrix (to understand why we're playing each value where we are, consult part one of this guide here]. For neutral-site games, we'll calculate r_x after adding the home-field advantage in. We'll also add a game to each team's n_games counter. "
   ]
  },
  {
   "cell_type": "code",
   "execution_count": 13,
   "metadata": {},
   "outputs": [],
   "source": [
    "for index, game in games_df_2019.iterrows():\n",
    "    home_team = game['home_team']\n",
    "    away_team = game['away_team']\n",
    "    home_points = game['home_points']\n",
    "    away_points = game['away_points']\n",
    "    neutral_flg = game['neutral_site']\n",
    "    home_team_ndx = team_names.index(home_team)\n",
    "    away_team_ndx = team_names.index(away_team)\n",
    "    spread = home_points - away_points\n",
    "    if neutral_flg:\n",
    "        spread += h\n",
    "    r_x = math.exp(a * spread + b) / (1 + math.exp(a * spread + b))\n",
    "    n_games[home_team_ndx] += 1\n",
    "    n_games[away_team_ndx] += 1\n",
    "    p[home_team_ndx, away_team_ndx] += 1 - r_x\n",
    "    p[away_team_ndx, home_team_ndx] += r_x\n",
    "    p[home_team_ndx, home_team_ndx] += r_x\n",
    "    p[away_team_ndx, away_team_ndx] += 1 - r_x"
   ]
  },
  {
   "cell_type": "markdown",
   "metadata": {},
   "source": [
    "Next, we'll divide each row our transition by the number of games we're tracking for each team."
   ]
  },
  {
   "cell_type": "code",
   "execution_count": 14,
   "metadata": {},
   "outputs": [
    {
     "name": "stdout",
     "output_type": "stream",
     "text": [
      "[[0.57204818 0.         0.         ... 0.         0.         0.03668326]\n",
      " [0.         0.354444   0.         ... 0.         0.         0.        ]\n",
      " [0.         0.         0.64208189 ... 0.         0.         0.        ]\n",
      " ...\n",
      " [0.         0.         0.         ... 0.52879391 0.         0.        ]\n",
      " [0.         0.         0.         ... 0.         0.59096999 0.        ]\n",
      " [0.04665007 0.         0.         ... 0.         0.         0.54762383]]\n"
     ]
    }
   ],
   "source": [
    "p = p / n_games[:,None]\n",
    "print(p)"
   ]
  },
  {
   "cell_type": "markdown",
   "metadata": {},
   "source": [
    "Finally, we'll approximate the steady state of this matrix to find what team LRMC believes is the best."
   ]
  },
  {
   "cell_type": "code",
   "execution_count": 15,
   "metadata": {},
   "outputs": [
    {
     "name": "stdout",
     "output_type": "stream",
     "text": [
      "                  team  lrmc_rating\n",
      "77          Ohio State   187.106455\n",
      "48                 LSU   175.945528\n",
      "21             Clemson   157.969142\n",
      "128          Wisconsin   130.052698\n",
      "2              Alabama   129.821806\n",
      "34             Georgia   118.031678\n",
      "82              Oregon   115.817995\n",
      "78            Oklahoma   110.981205\n",
      "9               Auburn   108.585276\n",
      "75          Notre Dame   107.732058\n",
      "59            Michigan   106.242719\n",
      "117               Utah   105.915359\n",
      "84          Penn State   105.042793\n",
      "12              Baylor   103.884959\n",
      "101              Texas   101.253766\n",
      "42                Iowa   100.165017\n",
      "29             Florida    96.009519\n",
      "56             Memphis    93.568406\n",
      "62           Minnesota    90.033058\n",
      "20          Cincinnati    89.598700\n",
      "123         Washington    88.540195\n",
      "43          Iowa State    88.377904\n",
      "3    Appalachian State    86.243448\n",
      "110                UCF    86.078021\n",
      "102          Texas A&M    84.039906\n"
     ]
    }
   ],
   "source": [
    "prior = n_teams - np.array(list(range(n_teams)))\n",
    "steady_state = np.linalg.matrix_power(p, 1000)\n",
    "rating = prior.dot(steady_state)\n",
    "rating_df = pd.DataFrame({\n",
    "    'team': team_names,\n",
    "    'lrmc_rating': rating\n",
    "    \n",
    "})\n",
    "print(rating_df.sort_values(by=['lrmc_rating'], ascending=False).iloc[0:25])"
   ]
  },
  {
   "cell_type": "markdown",
   "metadata": {},
   "source": [
    "So we've finished with LRMC rankings with 2019 -- but how will they work in the messed-up year of 2020, when some teams are playing conference-only games? Let's find out. We'll re-run the same analysis but for home games, but we'll adjust home field advantage for the weird-pandemic stuff, eyeballing it and dropping it by 1 point -- remove some to account for the impact of reduced or no crowd, but keeping some to account for rest/travel."
   ]
  },
  {
   "cell_type": "code",
   "execution_count": 16,
   "metadata": {},
   "outputs": [
    {
     "name": "stdout",
     "output_type": "stream",
     "text": [
      "                  team  lrmc_rating\n",
      "2              Alabama   135.230015\n",
      "16             Buffalo   131.356858\n",
      "21             Clemson   130.404969\n",
      "73          Notre Dame   129.633899\n",
      "10                 BYU   129.319638\n",
      "22    Coastal Carolina   113.635301\n",
      "42          Iowa State   110.743776\n",
      "49           Louisiana   109.852425\n",
      "107                UCF   105.703515\n",
      "20          Cincinnati   104.514956\n",
      "69      North Carolina   103.885852\n",
      "124   Western Michigan   103.099373\n",
      "76            Oklahoma   100.090273\n",
      "104             Tulane    99.269570\n",
      "18    Central Michigan    99.083950\n",
      "28             Florida    98.579495\n",
      "14      Boston College    97.503712\n",
      "56               Miami    96.908824\n",
      "102             Toledo    96.386918\n",
      "64            NC State    95.923478\n",
      "52          Louisville    94.467302\n",
      "98               Texas    93.446952\n",
      "3    Appalachian State    93.341825\n",
      "118      Virginia Tech    92.720235\n",
      "33             Georgia    92.415851\n"
     ]
    }
   ],
   "source": [
    "train_games_df = games_df.loc[(games_df['season'].isin([2016,2017,2018,2019])) & (~games_df['neutral_site'])]\n",
    "\n",
    "train_df = []\n",
    "\n",
    "for index, game in train_games_df.iterrows():\n",
    "    season = game['season']\n",
    "    team_a = game['home_team']\n",
    "    team_b = game['away_team']\n",
    "    home_diff = game['home_points'] - game['away_points']\n",
    "    opponents = train_games_df['away_team'][((games_df['home_team'] == team_a) & (games_df['season'] == season))].tolist() + games_df['home_team'][((games_df['away_team'] == team_a) & (games_df['season'] == season))].tolist() + games_df['away_team'][((games_df['home_team'] == team_b) & (games_df['season'] == season))].tolist() + games_df['home_team'][((games_df['away_team'] == team_b) & (games_df['season'] == season))].tolist()\n",
    "    common_opponents = set([team for team in opponents if opponents.count(team) > 1])\n",
    "    if len(common_opponents) > 1:\n",
    "        a_w = 0\n",
    "        b_w = 0\n",
    "        a_g = 0\n",
    "        b_g = 0\n",
    "        for index, game in games_df.loc[(games_df['season'] == season) & \n",
    "                                        ((games_df['home_team'].isin([team_a,team_b])) |\n",
    "                                          games_df['away_team'].isin([team_a,team_b]))].iterrows():\n",
    "            if (game['home_team'] == team_a) & (game['away_team'] in common_opponents):\n",
    "                a_g += 1\n",
    "                if game['home_points'] > game['away_points']:\n",
    "                    a_w += 1\n",
    "            elif (game['home_team'] == team_b) & (game['away_team'] in common_opponents):\n",
    "                b_g += 1\n",
    "                if game['home_points'] > game['away_points']:\n",
    "                    b_w += 1\n",
    "            elif (game['away_team'] == team_a) & (game['home_team'] in common_opponents):\n",
    "                a_g += 1\n",
    "                if game['away_points'] > game['home_points']:\n",
    "                    a_w += 1\n",
    "            elif (game['away_team'] == team_b) & (game['home_team'] in common_opponents):\n",
    "                b_g += 1\n",
    "                if game['away_points'] > game['home_points']:\n",
    "                    b_w += 1\n",
    "        \n",
    "        r_x = ((a_w / a_g) + (1 - (b_w / b_g))) / 2\n",
    "        \n",
    "        d = {\n",
    "            'season' : season,\n",
    "            'team_a' : team_a,\n",
    "            'team_b' : team_b,\n",
    "            'home_diff' : home_diff,\n",
    "            'r_x' : r_x,\n",
    "            'weight' : a_g+b_g\n",
    "        }\n",
    "        train_df.append(d)\n",
    "\n",
    "train_df = pd.DataFrame(train_df)\n",
    "train_df.loc[train_df['r_x'] == 1,'r_x'] = 0.9\n",
    "train_df.loc[train_df['r_x'] == 0,'r_x'] = 0.1\n",
    "\n",
    "x = np.array(train_df['home_diff']).reshape(-1,1)\n",
    "y = np.log(train_df['r_x'] / (1 - train_df['r_x']))\n",
    "w = train_df['weight']\n",
    "model = LinearRegression().fit(x, y, w)\n",
    "a = model.coef_[0]\n",
    "b = model.intercept_\n",
    "h = (-b / a) - 2\n",
    "\n",
    "games_df_2020 = games_df.loc[games_df['season'] == 2020]\n",
    "games_df_2020.head()\n",
    "\n",
    "team_names = sorted(list(set(games_df_2020['home_team'].tolist() + games_df_2020['away_team'].tolist())))\n",
    "n_teams = len(team_names)\n",
    "p = np.zeros((n_teams,n_teams))\n",
    "n_games = np.zeros(n_teams)\n",
    "\n",
    "for index, game in games_df_2020.iterrows():\n",
    "    home_team = game['home_team']\n",
    "    away_team = game['away_team']\n",
    "    home_points = game['home_points']\n",
    "    away_points = game['away_points']\n",
    "    neutral_flg = game['neutral_site']\n",
    "    home_team_ndx = team_names.index(home_team)\n",
    "    away_team_ndx = team_names.index(away_team)\n",
    "    spread = home_points - away_points\n",
    "    if neutral_flg:\n",
    "        spread += h\n",
    "    r_x = math.exp(a * spread + b) / (1 + math.exp(a * spread + b))\n",
    "    n_games[home_team_ndx] += 1\n",
    "    n_games[away_team_ndx] += 1\n",
    "    p[home_team_ndx, away_team_ndx] += 1 - r_x\n",
    "    p[away_team_ndx, home_team_ndx] += r_x\n",
    "    p[home_team_ndx, home_team_ndx] += r_x\n",
    "    p[away_team_ndx, away_team_ndx] += 1 - r_x\n",
    "    \n",
    "p = p / n_games[:,None]\n",
    "prior = n_teams - np.array(list(range(n_teams)))\n",
    "steady_state = np.linalg.matrix_power(p, 1000)\n",
    "rating = prior.dot(steady_state)\n",
    "rating_df = pd.DataFrame({\n",
    "    'team': team_names,\n",
    "    'lrmc_rating': rating\n",
    "    \n",
    "})\n",
    "print(rating_df.sort_values(by=['lrmc_rating'], ascending=False).iloc[0:25])"
   ]
  }
 ],
 "metadata": {
  "kernelspec": {
   "display_name": "Python 3",
   "language": "python",
   "name": "python3"
  },
  "language_info": {
   "codemirror_mode": {
    "name": "ipython",
    "version": 3
   },
   "file_extension": ".py",
   "mimetype": "text/x-python",
   "name": "python",
   "nbconvert_exporter": "python",
   "pygments_lexer": "ipython3",
   "version": "3.8.5"
  }
 },
 "nbformat": 4,
 "nbformat_minor": 4
}
